{
 "cells": [
  {
   "cell_type": "markdown",
   "id": "0bf36ed1",
   "metadata": {},
   "source": [
    "#### Monte Carlo Simulation"
   ]
  },
  {
   "cell_type": "code",
   "execution_count": 1,
   "id": "476934b8",
   "metadata": {},
   "outputs": [],
   "source": [
    "import numpy as np   \n",
    "import pandas as pd    \n",
    "import random  as rd"
   ]
  },
  {
   "cell_type": "code",
   "execution_count": 2,
   "id": "f46856d8",
   "metadata": {},
   "outputs": [],
   "source": [
    " class Die:\n",
    "    '''\n",
    "    PURPOSE:\n",
    "    A class accepts variety of random variables associated with stochastic\n",
    "    processes and rolls/runs and returns a list of outcomes\n",
    "    \n",
    "    ATTRIBUTES:\n",
    "    Takes an array of faces \n",
    "    \n",
    "    METHODS:\n",
    "    __init__::Return a dataframe with faces and weights column\n",
    "    change_weight:: Changes the weight of a single side/face.\n",
    "    roll_die:: Roll/Run the die one or more times\n",
    "    show_state:: Display the current set of the faces and weights\n",
    "    -------------------------------------------------------------------------\n",
    "    '''\n",
    "    def __init__(self , faces):\n",
    "        '''\n",
    "        PURPOSE:\n",
    "        Initializes private dataframe containing faces and weights respectively\n",
    "    \n",
    "        INPUTS:\n",
    "        Takes an array of faces \n",
    "    \n",
    "        OUTPUTS:\n",
    "        Return a dataframe with faces and weights column\n",
    "        '''\n",
    "        self.faces = list(set(faces)) # The faces must be unique\n",
    "        self.weights= np.ones(len(faces))  # Initialize the weight to 1.0\n",
    "        self.faces_weights_df= pd.DataFrame(self.faces , columns=['faces'])\n",
    "        self.faces_weights_df = self.faces_weights_df.assign(weights=self.weights)\n",
    "    def change_weight(self , face_value , new_weight):\n",
    "        # face passed must be valid\n",
    "        is_face_valid = (lambda face_value: face_value in self.faces) \n",
    "        if(not is_face_valid(face_value)): return \"Error:The face passed is invalid.\"\n",
    "        # Weight passed must be valid\n",
    "        is_weight_valid = isinstance(new_weight, float) | isinstance(new_weight, int) | isinstance(new_weight, bool)\n",
    "        if(not is_weight_valid): return \"Error:The Weight passed is invalid.\"\n",
    "        self.faces_weights_df.iloc[self.faces.index(face_value) , [1]] = new_weight\n",
    "    def roll_die(self , number_of_rolls = 1):\n",
    "         return [rd.choice(self.faces) for roll in range(number_of_rolls)]\n",
    "    def show_state(self):\n",
    "        return self.faces_weights_df"
   ]
  },
  {
   "cell_type": "code",
   "execution_count": 3,
   "id": "53bd64be",
   "metadata": {},
   "outputs": [
    {
     "data": {
      "text/plain": [
       "[1, 5, 3, 4, 2, 6, 5, 6, 3, 1]"
      ]
     },
     "execution_count": 3,
     "metadata": {},
     "output_type": "execute_result"
    }
   ],
   "source": [
    "number_die_array = [1, 2 ,3 ,4 ,5 ,6]\n",
    "string_coin_array = ['Heads', 'Tails']\n",
    "d = s = Die(number_die_array)\n",
    "d.show_state()\n",
    "d.change_weight(2, 2.0)\n",
    "d.change_weight(3, 3)\n",
    "d.change_weight(4, 4)\n",
    "d.change_weight(5, 5)\n",
    "d.change_weight(6, 6)\n",
    "d.roll_die(10)"
   ]
  },
  {
   "cell_type": "code",
   "execution_count": 4,
   "id": "9b195dc6",
   "metadata": {},
   "outputs": [
    {
     "data": {
      "text/plain": [
       "'\\n   PURPOSE:\\n   A class accepts variety of random variables associated with stochastic\\n   processes and rolls/runs and returns a list of outcomes\\n   \\n   ATTRIBUTES:\\n   Takes an array of faces \\n   \\n   METHODS:\\n   __init__::Return a dataframe with faces and weights column\\n   change_weight:: Changes the weight of a single side/face.\\n   roll_die:: Roll/Run the die one or more times\\n   show_state:: Display the current set of the faces and weights\\n   -------------------------------------------------------------------------\\n   '"
      ]
     },
     "execution_count": 4,
     "metadata": {},
     "output_type": "execute_result"
    }
   ],
   "source": [
    "Die.__doc__"
   ]
  },
  {
   "cell_type": "code",
   "execution_count": 5,
   "id": "3ddd4332",
   "metadata": {
    "scrolled": true
   },
   "outputs": [
    {
     "name": "stdout",
     "output_type": "stream",
     "text": [
      "             1  2  3  4  5  6\n",
      "roll number                  \n",
      "1            6  6  6  6  6  6\n",
      "2            1  1  1  1  1  1\n",
      "3            3  3  3  3  3  3\n",
      "4            2  2  2  2  2  2\n",
      "5            4  4  4  4  4  4\n",
      "6            6  6  6  6  6  6\n",
      "7            3  3  3  3  3  3\n",
      "8            5  5  5  5  5  5\n",
      "9            2  2  2  2  2  2\n",
      "10           4  4  4  4  4  4\n"
     ]
    }
   ],
   "source": [
    "class Game(): # Or access using Game(Die)\n",
    "    def __init__(self , dice):\n",
    "        self.dice = dice[0]  # Taking just one dice for now\n",
    "    def play(self, number_of_rolls):\n",
    "        cols = [str(die) for die in self.dice.faces]\n",
    "        roll_results = [roll for roll in self.dice.roll_die(number_of_rolls)] # Roll the dice X number of times extract the results  \n",
    "        # Create a single dim array with similar results populate across the array\n",
    "        roll_data = np.array([np.full((1 ,len(self.dice.faces)), roll_result)[0] for roll_result in roll_results]) \n",
    "        index = [i for i in range(1, len(roll_data) + 1)]\n",
    "        play_df = pd.DataFrame(roll_data ,\n",
    "                               index = index,\n",
    "                               columns = cols)  \n",
    "        play_df.index.name = 'roll number' \n",
    "        self.show(play_df , 1)\n",
    "        \n",
    "    \n",
    "    def show(self , play_result_df , df_form = 1): # default df return form is Wide = 1 and Narrow option is 2\n",
    "        if (df_form != 1 and df_form != 2):\n",
    "            return print(\"Error:The dataframe display format option can only be Wide(value 1) or Narrow(value 2).\")\n",
    "        if df_form == 1:\n",
    "            print(play_result_df)\n",
    "        else:\n",
    "            print(pd.melt(panda_df, value_vars=cols, var_name='VARS', value_name='VALUES', ignore_index=False))\n",
    "        \n",
    "dice = []\n",
    "dice.extend([s , d])\n",
    "g = Game(dice)\n",
    "g.play(10)"
   ]
  },
  {
   "cell_type": "code",
   "execution_count": null,
   "id": "565d94d4",
   "metadata": {},
   "outputs": [],
   "source": []
  },
  {
   "cell_type": "code",
   "execution_count": null,
   "id": "d2aeb8db",
   "metadata": {},
   "outputs": [],
   "source": []
  },
  {
   "cell_type": "code",
   "execution_count": null,
   "id": "40f391f1",
   "metadata": {},
   "outputs": [],
   "source": []
  },
  {
   "cell_type": "code",
   "execution_count": null,
   "id": "5d3cc8a4",
   "metadata": {},
   "outputs": [],
   "source": []
  },
  {
   "cell_type": "code",
   "execution_count": null,
   "id": "03387703",
   "metadata": {},
   "outputs": [],
   "source": []
  },
  {
   "cell_type": "code",
   "execution_count": null,
   "id": "f142702c",
   "metadata": {},
   "outputs": [],
   "source": []
  },
  {
   "cell_type": "code",
   "execution_count": null,
   "id": "e51c879c",
   "metadata": {},
   "outputs": [],
   "source": []
  },
  {
   "cell_type": "code",
   "execution_count": null,
   "id": "4d5c3762",
   "metadata": {},
   "outputs": [],
   "source": []
  },
  {
   "cell_type": "code",
   "execution_count": null,
   "id": "cb0afdaa",
   "metadata": {},
   "outputs": [],
   "source": []
  },
  {
   "cell_type": "code",
   "execution_count": null,
   "id": "1f79d7b0",
   "metadata": {},
   "outputs": [],
   "source": []
  },
  {
   "cell_type": "code",
   "execution_count": null,
   "id": "a1d34449",
   "metadata": {},
   "outputs": [],
   "source": []
  },
  {
   "cell_type": "code",
   "execution_count": null,
   "id": "c3c64cb9",
   "metadata": {},
   "outputs": [],
   "source": []
  },
  {
   "cell_type": "code",
   "execution_count": null,
   "id": "ac75f598",
   "metadata": {},
   "outputs": [],
   "source": []
  }
 ],
 "metadata": {
  "kernelspec": {
   "display_name": "Python 3 (ipykernel)",
   "language": "python",
   "name": "python3"
  },
  "language_info": {
   "codemirror_mode": {
    "name": "ipython",
    "version": 3
   },
   "file_extension": ".py",
   "mimetype": "text/x-python",
   "name": "python",
   "nbconvert_exporter": "python",
   "pygments_lexer": "ipython3",
   "version": "3.8.10"
  }
 },
 "nbformat": 4,
 "nbformat_minor": 5
}
