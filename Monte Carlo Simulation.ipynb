{
 "cells": [
  {
   "cell_type": "markdown",
   "id": "0bf36ed1",
   "metadata": {},
   "source": [
    "#### Monte Carlo Simulation"
   ]
  },
  {
   "cell_type": "code",
   "execution_count": 1,
   "id": "476934b8",
   "metadata": {},
   "outputs": [],
   "source": [
    "import numpy as np   \n",
    "import pandas as pd    \n",
    "import random  as rd"
   ]
  },
  {
   "cell_type": "code",
   "execution_count": 2,
   "id": "f46856d8",
   "metadata": {},
   "outputs": [],
   "source": [
    " class Die:\n",
    "    '''\n",
    "    PURPOSE:\n",
    "    A class accepts variety of random variables associated with stochastic\n",
    "    processes and rolls/runs and returns a list of outcomes\n",
    "    \n",
    "    ATTRIBUTES:\n",
    "    Takes an array of faces \n",
    "    \n",
    "    METHODS:\n",
    "    __init__::Return a dataframe with faces and weights column\n",
    "    change_weight:: Changes the weight of a single side/face.\n",
    "    roll_die:: Roll/Run the die one or more times\n",
    "    show_state:: Display the current set of the faces and weights\n",
    "    -------------------------------------------------------------------------\n",
    "    '''\n",
    "    def __init__(self , faces):\n",
    "        '''\n",
    "        PURPOSE:\n",
    "        Initializes private dataframe containing faces and weights respectively\n",
    "    \n",
    "        INPUTS:\n",
    "        Takes an array of faces \n",
    "    \n",
    "        OUTPUTS:\n",
    "        Return a dataframe with faces and weights column\n",
    "        '''\n",
    "        self.faces = list(set(faces)) # The faces must be unique\n",
    "        self.weights= np.ones(len(faces))  # Initialize the weight to 1.0\n",
    "        self.faces_weights_df= pd.DataFrame(self.faces , columns=['faces'])\n",
    "        self.faces_weights_df = self.faces_weights_df.assign(weights=self.weights)\n",
    "    def change_weight(self , face_value , new_weight):\n",
    "        # face passed must be valid\n",
    "        is_face_valid = (lambda face_value: face_value in self.faces) \n",
    "        if(not is_face_valid(face_value)): return \"Error:The face passed is invalid.\"\n",
    "        # Weight passed must be valid\n",
    "        is_weight_valid = isinstance(new_weight, float) | isinstance(new_weight, int) | isinstance(new_weight, bool)\n",
    "        if(not is_weight_valid): return \"Error:The Weight passed is invalid.\"\n",
    "        self.faces_weights_df.iloc[self.faces.index(face_value) , [1]] = new_weight\n",
    "    def roll_die(self , number_of_rolls = 1):\n",
    "         return [rd.choice(self.faces) for roll in range(number_of_rolls)]\n",
    "    def show_state(self):\n",
    "        return self.faces_weights_df"
   ]
  },
  {
   "cell_type": "code",
   "execution_count": 3,
   "id": "53bd64be",
   "metadata": {},
   "outputs": [
    {
     "data": {
      "text/plain": [
       "[4, 4, 2, 4, 2, 5, 4, 1, 6, 6]"
      ]
     },
     "execution_count": 3,
     "metadata": {},
     "output_type": "execute_result"
    }
   ],
   "source": [
    "number_die_array = [1, 2 ,3 ,4 ,5 ,6]\n",
    "string_coin_array = ['Heads', 'Tails']\n",
    "d = s = Die(number_die_array)\n",
    "d.show_state()\n",
    "d.change_weight(2, 2.0)\n",
    "d.change_weight(3, 3)\n",
    "d.change_weight(4, 4)\n",
    "d.change_weight(5, 5)\n",
    "d.change_weight(6, 6)\n",
    "d.roll_die(10)"
   ]
  },
  {
   "cell_type": "code",
   "execution_count": 4,
   "id": "9b195dc6",
   "metadata": {},
   "outputs": [
    {
     "data": {
      "text/plain": [
       "'\\n   PURPOSE:\\n   A class accepts variety of random variables associated with stochastic\\n   processes and rolls/runs and returns a list of outcomes\\n   \\n   ATTRIBUTES:\\n   Takes an array of faces \\n   \\n   METHODS:\\n   __init__::Return a dataframe with faces and weights column\\n   change_weight:: Changes the weight of a single side/face.\\n   roll_die:: Roll/Run the die one or more times\\n   show_state:: Display the current set of the faces and weights\\n   -------------------------------------------------------------------------\\n   '"
      ]
     },
     "execution_count": 4,
     "metadata": {},
     "output_type": "execute_result"
    }
   ],
   "source": [
    "Die.__doc__"
   ]
  },
  {
   "cell_type": "code",
   "execution_count": 5,
   "id": "3ddd4332",
   "metadata": {
    "scrolled": true
   },
   "outputs": [],
   "source": [
    "class Game: # Or access using Game(Die)\n",
    "    def __init__(self , dice):\n",
    "        self.dice = dice  # Taking the list of dice\n",
    "    def play(self, number_of_rolls):\n",
    "        self.number_of_rolls = number_of_rolls\n",
    "        self.play_result_df_list = []\n",
    "        # Iterate through the list of dice and perform the same operations \n",
    "        for roll in self.dice:\n",
    "            self.cols = [str(die) for die in roll.faces]\n",
    "            roll_results = [roll for roll in roll.roll_die(self.number_of_rolls)] # Roll the dice X number of times extract the results  \n",
    "            # Create a single dim array with similar results populate across the array\n",
    "            roll_data = np.array([np.full((1 ,len(roll.faces)), roll_result)[0] for roll_result in roll_results]) \n",
    "            index = [i for i in range(1, len(roll_data) + 1)]\n",
    "            self.play_df = pd.DataFrame(roll_data ,\n",
    "                                   index = index,\n",
    "                                   columns = self.cols)  \n",
    "            self.play_df.index.name = 'roll number' \n",
    "            self.show(self.play_df , 1)\n",
    "        \n",
    "    \n",
    "    def show(self , play_result_df , df_form = 1): # default df return form is Wide = 1 and Narrow option is 2\n",
    "        if (df_form != 1 and df_form != 2):\n",
    "            return print(\"Error:The dataframe display format option can only be Wide(value 1) or Narrow(value 2).\")\n",
    "        \n",
    "        self.play_result_df_list.append(play_result_df)\n",
    "        if df_form == 1:\n",
    "            return play_result_df\n",
    "        else:\n",
    "            return pd.melt(panda_df, value_vars=self.cols, var_name='VARS', value_name='VALUES', ignore_index=False)\n",
    "        \n",
    "dice = []\n",
    "dice.extend([s , d]) # Playing a Two dice \n",
    "g = Game(dice)\n",
    "g.play(10)"
   ]
  },
  {
   "cell_type": "code",
   "execution_count": 30,
   "id": "565d94d4",
   "metadata": {},
   "outputs": [
    {
     "name": "stdout",
     "output_type": "stream",
     "text": [
      "VAL IN 4\n",
      "VAL IN 6\n",
      "[0 0 0 1 0 1]\n",
      "VAL IN 5\n",
      "VAL IN 6\n",
      "[0 0 0 0 1 1]\n",
      "VAL IN 2\n",
      "VAL IN 1\n",
      "[1 1 0 0 0 0]\n",
      "VAL IN 6\n",
      "VAL IN 5\n",
      "[0 0 0 0 1 1]\n",
      "VAL IN 2\n",
      "VAL IN 2\n",
      "[0 2 0 0 0 0]\n",
      "VAL IN 5\n",
      "VAL IN 3\n",
      "[0 0 1 0 1 0]\n",
      "VAL IN 3\n",
      "VAL IN 6\n",
      "[0 0 1 0 0 1]\n",
      "VAL IN 3\n",
      "VAL IN 5\n",
      "[0 0 1 0 1 0]\n",
      "VAL IN 4\n",
      "VAL IN 5\n",
      "[0 0 0 1 1 0]\n",
      "VAL IN 5\n",
      "VAL IN 5\n",
      "[0 0 0 0 2 0]\n"
     ]
    },
    {
     "ename": "ValueError",
     "evalue": "Shape of passed values is (6, 1), indices imply (6, 6)",
     "output_type": "error",
     "traceback": [
      "\u001b[0;31m---------------------------------------------------------------------------\u001b[0m",
      "\u001b[0;31mValueError\u001b[0m                                Traceback (most recent call last)",
      "Input \u001b[0;32mIn [30]\u001b[0m, in \u001b[0;36m<cell line: 28>\u001b[0;34m()\u001b[0m\n\u001b[1;32m     22\u001b[0m         face_count_df \u001b[38;5;241m=\u001b[39m pd\u001b[38;5;241m.\u001b[39mDataFrame(\u001b[38;5;28mself\u001b[39m\u001b[38;5;241m.\u001b[39mface_array ,\n\u001b[1;32m     23\u001b[0m                                index \u001b[38;5;241m=\u001b[39m index,\n\u001b[1;32m     24\u001b[0m                                columns \u001b[38;5;241m=\u001b[39m \u001b[38;5;28mself\u001b[39m\u001b[38;5;241m.\u001b[39mgame\u001b[38;5;241m.\u001b[39mcols)  \n\u001b[1;32m     27\u001b[0m a \u001b[38;5;241m=\u001b[39m Analyzer(g)\n\u001b[0;32m---> 28\u001b[0m \u001b[43ma\u001b[49m\u001b[38;5;241;43m.\u001b[39;49m\u001b[43mface_count\u001b[49m\u001b[43m(\u001b[49m\u001b[43m)\u001b[49m\n",
      "Input \u001b[0;32mIn [30]\u001b[0m, in \u001b[0;36mAnalyzer.face_count\u001b[0;34m(self)\u001b[0m\n\u001b[1;32m     20\u001b[0m     \u001b[38;5;28mprint\u001b[39m(\u001b[38;5;28mself\u001b[39m\u001b[38;5;241m.\u001b[39mface_array) \n\u001b[1;32m     21\u001b[0m index \u001b[38;5;241m=\u001b[39m [i \u001b[38;5;28;01mfor\u001b[39;00m i \u001b[38;5;129;01min\u001b[39;00m \u001b[38;5;28mrange\u001b[39m(\u001b[38;5;241m1\u001b[39m, \u001b[38;5;28mlen\u001b[39m(\u001b[38;5;28mself\u001b[39m\u001b[38;5;241m.\u001b[39mface_array) \u001b[38;5;241m+\u001b[39m \u001b[38;5;241m1\u001b[39m)]\n\u001b[0;32m---> 22\u001b[0m face_count_df \u001b[38;5;241m=\u001b[39m \u001b[43mpd\u001b[49m\u001b[38;5;241;43m.\u001b[39;49m\u001b[43mDataFrame\u001b[49m\u001b[43m(\u001b[49m\u001b[38;5;28;43mself\u001b[39;49m\u001b[38;5;241;43m.\u001b[39;49m\u001b[43mface_array\u001b[49m\u001b[43m \u001b[49m\u001b[43m,\u001b[49m\n\u001b[1;32m     23\u001b[0m \u001b[43m                       \u001b[49m\u001b[43mindex\u001b[49m\u001b[43m \u001b[49m\u001b[38;5;241;43m=\u001b[39;49m\u001b[43m \u001b[49m\u001b[43mindex\u001b[49m\u001b[43m,\u001b[49m\n\u001b[1;32m     24\u001b[0m \u001b[43m                       \u001b[49m\u001b[43mcolumns\u001b[49m\u001b[43m \u001b[49m\u001b[38;5;241;43m=\u001b[39;49m\u001b[43m \u001b[49m\u001b[38;5;28;43mself\u001b[39;49m\u001b[38;5;241;43m.\u001b[39;49m\u001b[43mgame\u001b[49m\u001b[38;5;241;43m.\u001b[39;49m\u001b[43mcols\u001b[49m\u001b[43m)\u001b[49m\n",
      "File \u001b[0;32m~/.local/lib/python3.8/site-packages/pandas/core/frame.py:721\u001b[0m, in \u001b[0;36mDataFrame.__init__\u001b[0;34m(self, data, index, columns, dtype, copy)\u001b[0m\n\u001b[1;32m    711\u001b[0m         mgr \u001b[38;5;241m=\u001b[39m dict_to_mgr(\n\u001b[1;32m    712\u001b[0m             \u001b[38;5;66;03m# error: Item \"ndarray\" of \"Union[ndarray, Series, Index]\" has no\u001b[39;00m\n\u001b[1;32m    713\u001b[0m             \u001b[38;5;66;03m# attribute \"name\"\u001b[39;00m\n\u001b[0;32m   (...)\u001b[0m\n\u001b[1;32m    718\u001b[0m             typ\u001b[38;5;241m=\u001b[39mmanager,\n\u001b[1;32m    719\u001b[0m         )\n\u001b[1;32m    720\u001b[0m     \u001b[38;5;28;01melse\u001b[39;00m:\n\u001b[0;32m--> 721\u001b[0m         mgr \u001b[38;5;241m=\u001b[39m \u001b[43mndarray_to_mgr\u001b[49m\u001b[43m(\u001b[49m\n\u001b[1;32m    722\u001b[0m \u001b[43m            \u001b[49m\u001b[43mdata\u001b[49m\u001b[43m,\u001b[49m\n\u001b[1;32m    723\u001b[0m \u001b[43m            \u001b[49m\u001b[43mindex\u001b[49m\u001b[43m,\u001b[49m\n\u001b[1;32m    724\u001b[0m \u001b[43m            \u001b[49m\u001b[43mcolumns\u001b[49m\u001b[43m,\u001b[49m\n\u001b[1;32m    725\u001b[0m \u001b[43m            \u001b[49m\u001b[43mdtype\u001b[49m\u001b[38;5;241;43m=\u001b[39;49m\u001b[43mdtype\u001b[49m\u001b[43m,\u001b[49m\n\u001b[1;32m    726\u001b[0m \u001b[43m            \u001b[49m\u001b[43mcopy\u001b[49m\u001b[38;5;241;43m=\u001b[39;49m\u001b[43mcopy\u001b[49m\u001b[43m,\u001b[49m\n\u001b[1;32m    727\u001b[0m \u001b[43m            \u001b[49m\u001b[43mtyp\u001b[49m\u001b[38;5;241;43m=\u001b[39;49m\u001b[43mmanager\u001b[49m\u001b[43m,\u001b[49m\n\u001b[1;32m    728\u001b[0m \u001b[43m        \u001b[49m\u001b[43m)\u001b[49m\n\u001b[1;32m    730\u001b[0m \u001b[38;5;66;03m# For data is list-like, or Iterable (will consume into list)\u001b[39;00m\n\u001b[1;32m    731\u001b[0m \u001b[38;5;28;01melif\u001b[39;00m is_list_like(data):\n",
      "File \u001b[0;32m~/.local/lib/python3.8/site-packages/pandas/core/internals/construction.py:350\u001b[0m, in \u001b[0;36mndarray_to_mgr\u001b[0;34m(values, index, columns, dtype, copy, typ)\u001b[0m\n\u001b[1;32m    345\u001b[0m \u001b[38;5;66;03m# _prep_ndarraylike ensures that values.ndim == 2 at this point\u001b[39;00m\n\u001b[1;32m    346\u001b[0m index, columns \u001b[38;5;241m=\u001b[39m _get_axes(\n\u001b[1;32m    347\u001b[0m     values\u001b[38;5;241m.\u001b[39mshape[\u001b[38;5;241m0\u001b[39m], values\u001b[38;5;241m.\u001b[39mshape[\u001b[38;5;241m1\u001b[39m], index\u001b[38;5;241m=\u001b[39mindex, columns\u001b[38;5;241m=\u001b[39mcolumns\n\u001b[1;32m    348\u001b[0m )\n\u001b[0;32m--> 350\u001b[0m \u001b[43m_check_values_indices_shape_match\u001b[49m\u001b[43m(\u001b[49m\u001b[43mvalues\u001b[49m\u001b[43m,\u001b[49m\u001b[43m \u001b[49m\u001b[43mindex\u001b[49m\u001b[43m,\u001b[49m\u001b[43m \u001b[49m\u001b[43mcolumns\u001b[49m\u001b[43m)\u001b[49m\n\u001b[1;32m    352\u001b[0m \u001b[38;5;28;01mif\u001b[39;00m typ \u001b[38;5;241m==\u001b[39m \u001b[38;5;124m\"\u001b[39m\u001b[38;5;124marray\u001b[39m\u001b[38;5;124m\"\u001b[39m:\n\u001b[1;32m    354\u001b[0m     \u001b[38;5;28;01mif\u001b[39;00m \u001b[38;5;28missubclass\u001b[39m(values\u001b[38;5;241m.\u001b[39mdtype\u001b[38;5;241m.\u001b[39mtype, \u001b[38;5;28mstr\u001b[39m):\n",
      "File \u001b[0;32m~/.local/lib/python3.8/site-packages/pandas/core/internals/construction.py:421\u001b[0m, in \u001b[0;36m_check_values_indices_shape_match\u001b[0;34m(values, index, columns)\u001b[0m\n\u001b[1;32m    419\u001b[0m passed \u001b[38;5;241m=\u001b[39m values\u001b[38;5;241m.\u001b[39mshape\n\u001b[1;32m    420\u001b[0m implied \u001b[38;5;241m=\u001b[39m (\u001b[38;5;28mlen\u001b[39m(index), \u001b[38;5;28mlen\u001b[39m(columns))\n\u001b[0;32m--> 421\u001b[0m \u001b[38;5;28;01mraise\u001b[39;00m \u001b[38;5;167;01mValueError\u001b[39;00m(\u001b[38;5;124mf\u001b[39m\u001b[38;5;124m\"\u001b[39m\u001b[38;5;124mShape of passed values is \u001b[39m\u001b[38;5;132;01m{\u001b[39;00mpassed\u001b[38;5;132;01m}\u001b[39;00m\u001b[38;5;124m, indices imply \u001b[39m\u001b[38;5;132;01m{\u001b[39;00mimplied\u001b[38;5;132;01m}\u001b[39;00m\u001b[38;5;124m\"\u001b[39m)\n",
      "\u001b[0;31mValueError\u001b[0m: Shape of passed values is (6, 1), indices imply (6, 6)"
     ]
    }
   ],
   "source": [
    "# An analyzer takes the results of a single game and computes statistical properties about it.\n",
    "class Analyzer:\n",
    "     def __init__(self , game):\n",
    "            self.game = game\n",
    "            self.df_data_type = type(game.dice[0].faces[1]) # infers the data type of the die faces  \n",
    "#             game.play(10)\n",
    "            self.game_result = game.play_result_df_list\n",
    "            \n",
    "     def face_count(self):  \n",
    "#         self.face_array = np.zeros(len(self.game.cols), dtype = int) #  Place out here to get the total \n",
    "#         Iterate through the resulting list array and extract each parallel value to match and increment properly\n",
    "        for parallel_index in range(self.game.number_of_rolls):\n",
    "            start = 0\n",
    "            self.face_array = np.zeros(len(self.game.cols), dtype = int) # Hold the face value and increment when new similar value is found uses Game Cols Structure Copy\n",
    "            while start < len(self.game_result):\n",
    "                print(f\"VAL IN {self.game_result[start].iloc[parallel_index]['1']}\")\n",
    "                self.face_array[self.game.cols.index(str(self.game_result[start].iloc[parallel_index]['1']))] = self.face_array[self.game.cols.index(str(self.game_result[start].iloc[parallel_index]['1']))] + 1\n",
    "                start += 1\n",
    "                \n",
    "            print(self.face_array) \n",
    "        index = [i for i in range(1, len(self.face_array) + 1)]\n",
    "        face_count_df = pd.DataFrame(self.face_array ,\n",
    "                               index = index,\n",
    "                               columns = self.game.cols)  \n",
    "            \n",
    "\n",
    "a = Analyzer(g)\n",
    "a.face_count()"
   ]
  },
  {
   "cell_type": "code",
   "execution_count": null,
   "id": "d2aeb8db",
   "metadata": {},
   "outputs": [],
   "source": [
    "[\"foo\", \"bar\", \"baz\"].index(\"bar\")"
   ]
  },
  {
   "cell_type": "code",
   "execution_count": null,
   "id": "40f391f1",
   "metadata": {},
   "outputs": [],
   "source": [
    "# ['1','2','3','4','5','6'].index('3') "
   ]
  },
  {
   "cell_type": "code",
   "execution_count": null,
   "id": "5d3cc8a4",
   "metadata": {},
   "outputs": [],
   "source": [
    "for i in  range(5):\n",
    "    print(i)"
   ]
  },
  {
   "cell_type": "code",
   "execution_count": null,
   "id": "03387703",
   "metadata": {},
   "outputs": [],
   "source": []
  },
  {
   "cell_type": "code",
   "execution_count": null,
   "id": "f142702c",
   "metadata": {},
   "outputs": [],
   "source": []
  },
  {
   "cell_type": "code",
   "execution_count": null,
   "id": "e51c879c",
   "metadata": {},
   "outputs": [],
   "source": []
  },
  {
   "cell_type": "code",
   "execution_count": null,
   "id": "4d5c3762",
   "metadata": {},
   "outputs": [],
   "source": []
  },
  {
   "cell_type": "code",
   "execution_count": null,
   "id": "cb0afdaa",
   "metadata": {},
   "outputs": [],
   "source": []
  },
  {
   "cell_type": "code",
   "execution_count": null,
   "id": "1f79d7b0",
   "metadata": {},
   "outputs": [],
   "source": []
  },
  {
   "cell_type": "code",
   "execution_count": null,
   "id": "a1d34449",
   "metadata": {},
   "outputs": [],
   "source": []
  },
  {
   "cell_type": "code",
   "execution_count": null,
   "id": "c3c64cb9",
   "metadata": {},
   "outputs": [],
   "source": []
  },
  {
   "cell_type": "code",
   "execution_count": null,
   "id": "ac75f598",
   "metadata": {},
   "outputs": [],
   "source": []
  }
 ],
 "metadata": {
  "kernelspec": {
   "display_name": "Python 3 (ipykernel)",
   "language": "python",
   "name": "python3"
  },
  "language_info": {
   "codemirror_mode": {
    "name": "ipython",
    "version": 3
   },
   "file_extension": ".py",
   "mimetype": "text/x-python",
   "name": "python",
   "nbconvert_exporter": "python",
   "pygments_lexer": "ipython3",
   "version": "3.8.10"
  }
 },
 "nbformat": 4,
 "nbformat_minor": 5
}
